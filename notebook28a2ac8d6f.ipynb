{
  "metadata": {
    "kernelspec": {
      "language": "python",
      "display_name": "Python 3",
      "name": "python3"
    },
    "language_info": {
      "pygments_lexer": "ipython3",
      "nbconvert_exporter": "python",
      "version": "3.6.4",
      "file_extension": ".py",
      "codemirror_mode": {
        "name": "ipython",
        "version": 3
      },
      "name": "python",
      "mimetype": "text/x-python"
    },
    "kaggle": {
      "accelerator": "none",
      "dataSources": [],
      "isInternetEnabled": false,
      "language": "python",
      "sourceType": "notebook",
      "isGpuEnabled": false
    },
    "colab": {
      "name": "notebook28a2ac8d6f",
      "provenance": [],
      "include_colab_link": true
    }
  },
  "nbformat_minor": 0,
  "nbformat": 4,
  "cells": [
    {
      "cell_type": "markdown",
      "metadata": {
        "id": "view-in-github",
        "colab_type": "text"
      },
      "source": [
        "<a href=\"https://colab.research.google.com/github/Shravya622/project-hub/blob/main/notebook28a2ac8d6f.ipynb\" target=\"_parent\"><img src=\"https://colab.research.google.com/assets/colab-badge.svg\" alt=\"Open In Colab\"/></a>"
      ]
    },
    {
      "cell_type": "code",
      "source": [
        "#include <stdio.h>\n",
        "void tower(int n, int source, int temp, int destination)\n",
        "{\n",
        "if (n == 0)\n",
        "return;\n",
        "tower(n - 1, source, destination, temp);\n",
        "printf(\"\\nMove disc %d from %c to %c\", n, source, destination);\n",
        "tower(n - 1, temp, source, destination);\n",
        "}\n",
        "void main()\n",
        "{\n",
        "int n;\n",
        "printf(\"\\nEnter the number of discs: \\n\");\n",
        "scanf(\"%d\", & n);\n",
        "tower(n, 'A', 'B', 'C');\n",
        "printf(\"\\n\\nTotal Number of moves are: %d\", (int) pow(2, n) - 1);\n",
        "}"
      ],
      "metadata": {
        "_uuid": "8f2839f25d086af736a60e9eeb907d3b93b6e0e5",
        "_cell_guid": "b1076dfc-b9ad-4769-8c92-a6c4dae69d19",
        "trusted": true,
        "id": "a9JgYXL-DVOx"
      },
      "outputs": [],
      "execution_count": null
    }
  ]
}